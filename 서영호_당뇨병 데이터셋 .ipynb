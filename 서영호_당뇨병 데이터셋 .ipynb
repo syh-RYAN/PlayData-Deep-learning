{
 "cells": [
  {
   "cell_type": "markdown",
   "metadata": {},
   "source": [
    "# [응용1] 다중 선형회귀 연습 - load_diabetes"
   ]
  },
  {
   "cell_type": "markdown",
   "metadata": {},
   "source": [
    "### 필요한 모듈 import"
   ]
  },
  {
   "cell_type": "code",
   "execution_count": 30,
   "metadata": {},
   "outputs": [],
   "source": [
    "from sklearn.datasets import load_diabetes\n",
    "from sklearn.model_selection import train_test_split\n",
    "from sklearn.linear_model import LinearRegression\n",
    "from sklearn.metrics import mean_squared_error, r2_score\n",
    "import matplotlib.pyplot as plt\n",
    "import numpy as np\n",
    "import pandas as pd\n",
    "# 상관계수 히트맵으로 시각화\n",
    "import seaborn as sns"
   ]
  },
  {
   "cell_type": "code",
   "execution_count": 25,
   "metadata": {},
   "outputs": [
    {
     "name": "stdout",
     "output_type": "stream",
     "text": [
      "NanumGothic\n",
      "SeoulNamsan\n",
      "['NanumGothic']\n"
     ]
    }
   ],
   "source": [
    "## 폰트 설정\n",
    "import matplotlib.font_manager as font_manager\n",
    "import matplotlib as mpl\n",
    "# Add every font at the specified location\n",
    "font_dir = ['C:/python/fonts']\n",
    "for font in font_manager.findSystemFonts(fontpaths=font_dir):\n",
    "    print(mpl.font_manager.FontProperties(fname=font).get_name())\n",
    "    font_manager.fontManager.addfont(font)\n",
    "\n",
    "#폰트 적용\n",
    "# Set font family globally\n",
    "mpl.rcParams['font.family'] = 'NanumGothic'\n",
    "print(mpl.rcParams['font.family'])\n",
    "\n",
    "# 한글 표시를 위해 폰트 지정 필수\n",
    "# 기본 폰트 적용은 rcParams 설정으로\n",
    "# - font.family : 기본 폰트 종류 적용\n",
    "# - axes.unicode_minus : False로 설정 시 마이너스 기호로 ASCII로 한다.\n",
    "\n",
    "mpl.rcParams[\"font.family\"] = 'NanumGothic'\n",
    "mpl.rcParams[\"axes.unicode_minus\"] = False\n",
    "\n",
    "plt.rcParams['axes.unicode_minus'] = False    # 마이너스 깨짐 방지\n"
   ]
  },
  {
   "cell_type": "code",
   "execution_count": 2,
   "metadata": {},
   "outputs": [],
   "source": [
    "def get_score(y_test, y_pred):\n",
    "    \"\"\"\n",
    "    mse,rmse,r2 계산\n",
    "    \"\"\"\n",
    "    mse = mean_squared_error(y_test,y_pred)\n",
    "    rmse = np.sqrt(mse)\n",
    "    r2 = r2_score(y_test,y_pred)\n",
    "\n",
    "    return (mse,rmse,r2)"
   ]
  },
  {
   "cell_type": "code",
   "execution_count": 3,
   "metadata": {},
   "outputs": [
    {
     "name": "stdout",
     "output_type": "stream",
     "text": [
      "{'data': array([[ 0.03807591,  0.05068012,  0.06169621, ..., -0.00259226,\n",
      "         0.01990749, -0.01764613],\n",
      "       [-0.00188202, -0.04464164, -0.05147406, ..., -0.03949338,\n",
      "        -0.06833155, -0.09220405],\n",
      "       [ 0.08529891,  0.05068012,  0.04445121, ..., -0.00259226,\n",
      "         0.00286131, -0.02593034],\n",
      "       ...,\n",
      "       [ 0.04170844,  0.05068012, -0.01590626, ..., -0.01107952,\n",
      "        -0.04688253,  0.01549073],\n",
      "       [-0.04547248, -0.04464164,  0.03906215, ...,  0.02655962,\n",
      "         0.04452873, -0.02593034],\n",
      "       [-0.04547248, -0.04464164, -0.0730303 , ..., -0.03949338,\n",
      "        -0.00422151,  0.00306441]]), 'target': array([151.,  75., 141., 206., 135.,  97., 138.,  63., 110., 310., 101.,\n",
      "        69., 179., 185., 118., 171., 166., 144.,  97., 168.,  68.,  49.,\n",
      "        68., 245., 184., 202., 137.,  85., 131., 283., 129.,  59., 341.,\n",
      "        87.,  65., 102., 265., 276., 252.,  90., 100.,  55.,  61.,  92.,\n",
      "       259.,  53., 190., 142.,  75., 142., 155., 225.,  59., 104., 182.,\n",
      "       128.,  52.,  37., 170., 170.,  61., 144.,  52., 128.,  71., 163.,\n",
      "       150.,  97., 160., 178.,  48., 270., 202., 111.,  85.,  42., 170.,\n",
      "       200., 252., 113., 143.,  51.,  52., 210.,  65., 141.,  55., 134.,\n",
      "        42., 111.,  98., 164.,  48.,  96.,  90., 162., 150., 279.,  92.,\n",
      "        83., 128., 102., 302., 198.,  95.,  53., 134., 144., 232.,  81.,\n",
      "       104.,  59., 246., 297., 258., 229., 275., 281., 179., 200., 200.,\n",
      "       173., 180.,  84., 121., 161.,  99., 109., 115., 268., 274., 158.,\n",
      "       107.,  83., 103., 272.,  85., 280., 336., 281., 118., 317., 235.,\n",
      "        60., 174., 259., 178., 128.,  96., 126., 288.,  88., 292.,  71.,\n",
      "       197., 186.,  25.,  84.,  96., 195.,  53., 217., 172., 131., 214.,\n",
      "        59.,  70., 220., 268., 152.,  47.,  74., 295., 101., 151., 127.,\n",
      "       237., 225.,  81., 151., 107.,  64., 138., 185., 265., 101., 137.,\n",
      "       143., 141.,  79., 292., 178.,  91., 116.,  86., 122.,  72., 129.,\n",
      "       142.,  90., 158.,  39., 196., 222., 277.,  99., 196., 202., 155.,\n",
      "        77., 191.,  70.,  73.,  49.,  65., 263., 248., 296., 214., 185.,\n",
      "        78.,  93., 252., 150.,  77., 208.,  77., 108., 160.,  53., 220.,\n",
      "       154., 259.,  90., 246., 124.,  67.,  72., 257., 262., 275., 177.,\n",
      "        71.,  47., 187., 125.,  78.,  51., 258., 215., 303., 243.,  91.,\n",
      "       150., 310., 153., 346.,  63.,  89.,  50.,  39., 103., 308., 116.,\n",
      "       145.,  74.,  45., 115., 264.,  87., 202., 127., 182., 241.,  66.,\n",
      "        94., 283.,  64., 102., 200., 265.,  94., 230., 181., 156., 233.,\n",
      "        60., 219.,  80.,  68., 332., 248.,  84., 200.,  55.,  85.,  89.,\n",
      "        31., 129.,  83., 275.,  65., 198., 236., 253., 124.,  44., 172.,\n",
      "       114., 142., 109., 180., 144., 163., 147.,  97., 220., 190., 109.,\n",
      "       191., 122., 230., 242., 248., 249., 192., 131., 237.,  78., 135.,\n",
      "       244., 199., 270., 164.,  72.,  96., 306.,  91., 214.,  95., 216.,\n",
      "       263., 178., 113., 200., 139., 139.,  88., 148.,  88., 243.,  71.,\n",
      "        77., 109., 272.,  60.,  54., 221.,  90., 311., 281., 182., 321.,\n",
      "        58., 262., 206., 233., 242., 123., 167.,  63., 197.,  71., 168.,\n",
      "       140., 217., 121., 235., 245.,  40.,  52., 104., 132.,  88.,  69.,\n",
      "       219.,  72., 201., 110.,  51., 277.,  63., 118.,  69., 273., 258.,\n",
      "        43., 198., 242., 232., 175.,  93., 168., 275., 293., 281.,  72.,\n",
      "       140., 189., 181., 209., 136., 261., 113., 131., 174., 257.,  55.,\n",
      "        84.,  42., 146., 212., 233.,  91., 111., 152., 120.,  67., 310.,\n",
      "        94., 183.,  66., 173.,  72.,  49.,  64.,  48., 178., 104., 132.,\n",
      "       220.,  57.]), 'frame': None, 'DESCR': '.. _diabetes_dataset:\\n\\nDiabetes dataset\\n----------------\\n\\nTen baseline variables, age, sex, body mass index, average blood\\npressure, and six blood serum measurements were obtained for each of n =\\n442 diabetes patients, as well as the response of interest, a\\nquantitative measure of disease progression one year after baseline.\\n\\n**Data Set Characteristics:**\\n\\n  :Number of Instances: 442\\n\\n  :Number of Attributes: First 10 columns are numeric predictive values\\n\\n  :Target: Column 11 is a quantitative measure of disease progression one year after baseline\\n\\n  :Attribute Information:\\n      - age     age in years\\n      - sex\\n      - bmi     body mass index\\n      - bp      average blood pressure\\n      - s1      tc, total serum cholesterol\\n      - s2      ldl, low-density lipoproteins\\n      - s3      hdl, high-density lipoproteins\\n      - s4      tch, total cholesterol / HDL\\n      - s5      ltg, possibly log of serum triglycerides level\\n      - s6      glu, blood sugar level\\n\\nNote: Each of these 10 feature variables have been mean centered and scaled by the standard deviation times the square root of `n_samples` (i.e. the sum of squares of each column totals 1).\\n\\nSource URL:\\nhttps://www4.stat.ncsu.edu/~boos/var.select/diabetes.html\\n\\nFor more information see:\\nBradley Efron, Trevor Hastie, Iain Johnstone and Robert Tibshirani (2004) \"Least Angle Regression,\" Annals of Statistics (with discussion), 407-499.\\n(https://web.stanford.edu/~hastie/Papers/LARS/LeastAngle_2002.pdf)\\n', 'feature_names': ['age', 'sex', 'bmi', 'bp', 's1', 's2', 's3', 's4', 's5', 's6'], 'data_filename': 'diabetes_data_raw.csv.gz', 'target_filename': 'diabetes_target.csv.gz', 'data_module': 'sklearn.datasets.data'}\n"
     ]
    }
   ],
   "source": [
    "diab = load_diabetes()\n",
    "\n",
    "print(diab)"
   ]
  },
  {
   "cell_type": "markdown",
   "metadata": {},
   "source": [
    "### 데이터 수집"
   ]
  },
  {
   "cell_type": "code",
   "execution_count": 4,
   "metadata": {},
   "outputs": [
    {
     "data": {
      "text/plain": [
       "dict_keys(['data', 'target', 'frame', 'DESCR', 'feature_names', 'data_filename', 'target_filename', 'data_module'])"
      ]
     },
     "execution_count": 4,
     "metadata": {},
     "output_type": "execute_result"
    }
   ],
   "source": [
    "diab.keys()"
   ]
  },
  {
   "cell_type": "code",
   "execution_count": 5,
   "metadata": {},
   "outputs": [
    {
     "data": {
      "text/plain": [
       "array([151.,  75., 141., 206., 135.,  97., 138.,  63., 110., 310., 101.,\n",
       "        69., 179., 185., 118., 171., 166., 144.,  97., 168.,  68.,  49.,\n",
       "        68., 245., 184., 202., 137.,  85., 131., 283., 129.,  59., 341.,\n",
       "        87.,  65., 102., 265., 276., 252.,  90., 100.,  55.,  61.,  92.,\n",
       "       259.,  53., 190., 142.,  75., 142., 155., 225.,  59., 104., 182.,\n",
       "       128.,  52.,  37., 170., 170.,  61., 144.,  52., 128.,  71., 163.,\n",
       "       150.,  97., 160., 178.,  48., 270., 202., 111.,  85.,  42., 170.,\n",
       "       200., 252., 113., 143.,  51.,  52., 210.,  65., 141.,  55., 134.,\n",
       "        42., 111.,  98., 164.,  48.,  96.,  90., 162., 150., 279.,  92.,\n",
       "        83., 128., 102., 302., 198.,  95.,  53., 134., 144., 232.,  81.,\n",
       "       104.,  59., 246., 297., 258., 229., 275., 281., 179., 200., 200.,\n",
       "       173., 180.,  84., 121., 161.,  99., 109., 115., 268., 274., 158.,\n",
       "       107.,  83., 103., 272.,  85., 280., 336., 281., 118., 317., 235.,\n",
       "        60., 174., 259., 178., 128.,  96., 126., 288.,  88., 292.,  71.,\n",
       "       197., 186.,  25.,  84.,  96., 195.,  53., 217., 172., 131., 214.,\n",
       "        59.,  70., 220., 268., 152.,  47.,  74., 295., 101., 151., 127.,\n",
       "       237., 225.,  81., 151., 107.,  64., 138., 185., 265., 101., 137.,\n",
       "       143., 141.,  79., 292., 178.,  91., 116.,  86., 122.,  72., 129.,\n",
       "       142.,  90., 158.,  39., 196., 222., 277.,  99., 196., 202., 155.,\n",
       "        77., 191.,  70.,  73.,  49.,  65., 263., 248., 296., 214., 185.,\n",
       "        78.,  93., 252., 150.,  77., 208.,  77., 108., 160.,  53., 220.,\n",
       "       154., 259.,  90., 246., 124.,  67.,  72., 257., 262., 275., 177.,\n",
       "        71.,  47., 187., 125.,  78.,  51., 258., 215., 303., 243.,  91.,\n",
       "       150., 310., 153., 346.,  63.,  89.,  50.,  39., 103., 308., 116.,\n",
       "       145.,  74.,  45., 115., 264.,  87., 202., 127., 182., 241.,  66.,\n",
       "        94., 283.,  64., 102., 200., 265.,  94., 230., 181., 156., 233.,\n",
       "        60., 219.,  80.,  68., 332., 248.,  84., 200.,  55.,  85.,  89.,\n",
       "        31., 129.,  83., 275.,  65., 198., 236., 253., 124.,  44., 172.,\n",
       "       114., 142., 109., 180., 144., 163., 147.,  97., 220., 190., 109.,\n",
       "       191., 122., 230., 242., 248., 249., 192., 131., 237.,  78., 135.,\n",
       "       244., 199., 270., 164.,  72.,  96., 306.,  91., 214.,  95., 216.,\n",
       "       263., 178., 113., 200., 139., 139.,  88., 148.,  88., 243.,  71.,\n",
       "        77., 109., 272.,  60.,  54., 221.,  90., 311., 281., 182., 321.,\n",
       "        58., 262., 206., 233., 242., 123., 167.,  63., 197.,  71., 168.,\n",
       "       140., 217., 121., 235., 245.,  40.,  52., 104., 132.,  88.,  69.,\n",
       "       219.,  72., 201., 110.,  51., 277.,  63., 118.,  69., 273., 258.,\n",
       "        43., 198., 242., 232., 175.,  93., 168., 275., 293., 281.,  72.,\n",
       "       140., 189., 181., 209., 136., 261., 113., 131., 174., 257.,  55.,\n",
       "        84.,  42., 146., 212., 233.,  91., 111., 152., 120.,  67., 310.,\n",
       "        94., 183.,  66., 173.,  72.,  49.,  64.,  48., 178., 104., 132.,\n",
       "       220.,  57.])"
      ]
     },
     "execution_count": 5,
     "metadata": {},
     "output_type": "execute_result"
    }
   ],
   "source": [
    "diab.target"
   ]
  },
  {
   "cell_type": "markdown",
   "metadata": {},
   "source": [
    "### 데이터 이해"
   ]
  },
  {
   "cell_type": "code",
   "execution_count": 86,
   "metadata": {},
   "outputs": [
    {
     "name": "stdout",
     "output_type": "stream",
     "text": [
      ".. _diabetes_dataset:\n",
      "\n",
      "Diabetes dataset\n",
      "----------------\n",
      "\n",
      "Ten baseline variables, age, sex, body mass index, average blood\n",
      "pressure, and six blood serum measurements were obtained for each of n =\n",
      "442 diabetes patients, as well as the response of interest, a\n",
      "quantitative measure of disease progression one year after baseline.\n",
      "\n",
      "**Data Set Characteristics:**\n",
      "\n",
      "  :Number of Instances: 442\n",
      "\n",
      "  :Number of Attributes: First 10 columns are numeric predictive values\n",
      "\n",
      "  :Target: Column 11 is a quantitative measure of disease progression one year after baseline\n",
      "\n",
      "  :Attribute Information:\n",
      "      - age     age in years\n",
      "      - sex\n",
      "      - bmi     body mass index\n",
      "      - bp      average blood pressure\n",
      "      - s1      tc, total serum cholesterol\n",
      "      - s2      ldl, low-density lipoproteins\n",
      "      - s3      hdl, high-density lipoproteins\n",
      "      - s4      tch, total cholesterol / HDL\n",
      "      - s5      ltg, possibly log of serum triglycerides level\n",
      "      - s6      glu, blood sugar level\n",
      "\n",
      "Note: Each of these 10 feature variables have been mean centered and scaled by the standard deviation times the square root of `n_samples` (i.e. the sum of squares of each column totals 1).\n",
      "\n",
      "Source URL:\n",
      "https://www4.stat.ncsu.edu/~boos/var.select/diabetes.html\n",
      "\n",
      "For more information see:\n",
      "Bradley Efron, Trevor Hastie, Iain Johnstone and Robert Tibshirani (2004) \"Least Angle Regression,\" Annals of Statistics (with discussion), 407-499.\n",
      "(https://web.stanford.edu/~hastie/Papers/LARS/LeastAngle_2002.pdf)\n",
      "\n"
     ]
    }
   ],
   "source": [
    "diab.keys()\n",
    "print(diab.DESCR)"
   ]
  },
  {
   "cell_type": "code",
   "execution_count": null,
   "metadata": {},
   "outputs": [],
   "source": [
    "# 히트맵\n",
    "diab_df = pd.DataFrame(diab.data,columns=diab.feature_names)\n",
    "diab_df"
   ]
  },
  {
   "cell_type": "code",
   "execution_count": 29,
   "metadata": {},
   "outputs": [
    {
     "data": {
      "text/html": [
       "<div>\n",
       "<style scoped>\n",
       "    .dataframe tbody tr th:only-of-type {\n",
       "        vertical-align: middle;\n",
       "    }\n",
       "\n",
       "    .dataframe tbody tr th {\n",
       "        vertical-align: top;\n",
       "    }\n",
       "\n",
       "    .dataframe thead th {\n",
       "        text-align: right;\n",
       "    }\n",
       "</style>\n",
       "<table border=\"1\" class=\"dataframe\">\n",
       "  <thead>\n",
       "    <tr style=\"text-align: right;\">\n",
       "      <th></th>\n",
       "      <th>age</th>\n",
       "      <th>sex</th>\n",
       "      <th>bmi</th>\n",
       "      <th>bp</th>\n",
       "      <th>s1</th>\n",
       "      <th>s2</th>\n",
       "      <th>s3</th>\n",
       "      <th>s4</th>\n",
       "      <th>s5</th>\n",
       "      <th>s6</th>\n",
       "    </tr>\n",
       "  </thead>\n",
       "  <tbody>\n",
       "    <tr>\n",
       "      <th>age</th>\n",
       "      <td>1.0000</td>\n",
       "      <td>0.1737</td>\n",
       "      <td>0.1851</td>\n",
       "      <td>0.3354</td>\n",
       "      <td>0.2601</td>\n",
       "      <td>0.2192</td>\n",
       "      <td>-0.0752</td>\n",
       "      <td>0.2038</td>\n",
       "      <td>0.2708</td>\n",
       "      <td>0.3017</td>\n",
       "    </tr>\n",
       "    <tr>\n",
       "      <th>sex</th>\n",
       "      <td>0.1737</td>\n",
       "      <td>1.0000</td>\n",
       "      <td>0.0882</td>\n",
       "      <td>0.2410</td>\n",
       "      <td>0.0353</td>\n",
       "      <td>0.1426</td>\n",
       "      <td>-0.3791</td>\n",
       "      <td>0.3321</td>\n",
       "      <td>0.1499</td>\n",
       "      <td>0.2081</td>\n",
       "    </tr>\n",
       "    <tr>\n",
       "      <th>bmi</th>\n",
       "      <td>0.1851</td>\n",
       "      <td>0.0882</td>\n",
       "      <td>1.0000</td>\n",
       "      <td>0.3954</td>\n",
       "      <td>0.2498</td>\n",
       "      <td>0.2612</td>\n",
       "      <td>-0.3668</td>\n",
       "      <td>0.4138</td>\n",
       "      <td>0.4462</td>\n",
       "      <td>0.3887</td>\n",
       "    </tr>\n",
       "    <tr>\n",
       "      <th>bp</th>\n",
       "      <td>0.3354</td>\n",
       "      <td>0.2410</td>\n",
       "      <td>0.3954</td>\n",
       "      <td>1.0000</td>\n",
       "      <td>0.2425</td>\n",
       "      <td>0.1855</td>\n",
       "      <td>-0.1788</td>\n",
       "      <td>0.2577</td>\n",
       "      <td>0.3935</td>\n",
       "      <td>0.3904</td>\n",
       "    </tr>\n",
       "    <tr>\n",
       "      <th>s1</th>\n",
       "      <td>0.2601</td>\n",
       "      <td>0.0353</td>\n",
       "      <td>0.2498</td>\n",
       "      <td>0.2425</td>\n",
       "      <td>1.0000</td>\n",
       "      <td>0.8967</td>\n",
       "      <td>0.0515</td>\n",
       "      <td>0.5422</td>\n",
       "      <td>0.5155</td>\n",
       "      <td>0.3257</td>\n",
       "    </tr>\n",
       "    <tr>\n",
       "      <th>s2</th>\n",
       "      <td>0.2192</td>\n",
       "      <td>0.1426</td>\n",
       "      <td>0.2612</td>\n",
       "      <td>0.1855</td>\n",
       "      <td>0.8967</td>\n",
       "      <td>1.0000</td>\n",
       "      <td>-0.1965</td>\n",
       "      <td>0.6598</td>\n",
       "      <td>0.3184</td>\n",
       "      <td>0.2906</td>\n",
       "    </tr>\n",
       "    <tr>\n",
       "      <th>s3</th>\n",
       "      <td>-0.0752</td>\n",
       "      <td>-0.3791</td>\n",
       "      <td>-0.3668</td>\n",
       "      <td>-0.1788</td>\n",
       "      <td>0.0515</td>\n",
       "      <td>-0.1965</td>\n",
       "      <td>1.0000</td>\n",
       "      <td>-0.7385</td>\n",
       "      <td>-0.3986</td>\n",
       "      <td>-0.2737</td>\n",
       "    </tr>\n",
       "    <tr>\n",
       "      <th>s4</th>\n",
       "      <td>0.2038</td>\n",
       "      <td>0.3321</td>\n",
       "      <td>0.4138</td>\n",
       "      <td>0.2577</td>\n",
       "      <td>0.5422</td>\n",
       "      <td>0.6598</td>\n",
       "      <td>-0.7385</td>\n",
       "      <td>1.0000</td>\n",
       "      <td>0.6179</td>\n",
       "      <td>0.4172</td>\n",
       "    </tr>\n",
       "    <tr>\n",
       "      <th>s5</th>\n",
       "      <td>0.2708</td>\n",
       "      <td>0.1499</td>\n",
       "      <td>0.4462</td>\n",
       "      <td>0.3935</td>\n",
       "      <td>0.5155</td>\n",
       "      <td>0.3184</td>\n",
       "      <td>-0.3986</td>\n",
       "      <td>0.6179</td>\n",
       "      <td>1.0000</td>\n",
       "      <td>0.4647</td>\n",
       "    </tr>\n",
       "    <tr>\n",
       "      <th>s6</th>\n",
       "      <td>0.3017</td>\n",
       "      <td>0.2081</td>\n",
       "      <td>0.3887</td>\n",
       "      <td>0.3904</td>\n",
       "      <td>0.3257</td>\n",
       "      <td>0.2906</td>\n",
       "      <td>-0.2737</td>\n",
       "      <td>0.4172</td>\n",
       "      <td>0.4647</td>\n",
       "      <td>1.0000</td>\n",
       "    </tr>\n",
       "  </tbody>\n",
       "</table>\n",
       "</div>"
      ],
      "text/plain": [
       "        age     sex     bmi      bp     s1      s2      s3      s4      s5  \\\n",
       "age  1.0000  0.1737  0.1851  0.3354 0.2601  0.2192 -0.0752  0.2038  0.2708   \n",
       "sex  0.1737  1.0000  0.0882  0.2410 0.0353  0.1426 -0.3791  0.3321  0.1499   \n",
       "bmi  0.1851  0.0882  1.0000  0.3954 0.2498  0.2612 -0.3668  0.4138  0.4462   \n",
       "bp   0.3354  0.2410  0.3954  1.0000 0.2425  0.1855 -0.1788  0.2577  0.3935   \n",
       "s1   0.2601  0.0353  0.2498  0.2425 1.0000  0.8967  0.0515  0.5422  0.5155   \n",
       "s2   0.2192  0.1426  0.2612  0.1855 0.8967  1.0000 -0.1965  0.6598  0.3184   \n",
       "s3  -0.0752 -0.3791 -0.3668 -0.1788 0.0515 -0.1965  1.0000 -0.7385 -0.3986   \n",
       "s4   0.2038  0.3321  0.4138  0.2577 0.5422  0.6598 -0.7385  1.0000  0.6179   \n",
       "s5   0.2708  0.1499  0.4462  0.3935 0.5155  0.3184 -0.3986  0.6179  1.0000   \n",
       "s6   0.3017  0.2081  0.3887  0.3904 0.3257  0.2906 -0.2737  0.4172  0.4647   \n",
       "\n",
       "         s6  \n",
       "age  0.3017  \n",
       "sex  0.2081  \n",
       "bmi  0.3887  \n",
       "bp   0.3904  \n",
       "s1   0.3257  \n",
       "s2   0.2906  \n",
       "s3  -0.2737  \n",
       "s4   0.4172  \n",
       "s5   0.4647  \n",
       "s6   1.0000  "
      ]
     },
     "execution_count": 29,
     "metadata": {},
     "output_type": "execute_result"
    }
   ],
   "source": [
    "# 변수 간의 상관관계를 히트맵으로 시각화 및 탐색\n",
    "\n",
    "# 상관계수를 구하여 저장\n",
    "corr_df = diab_df.corr()\n",
    "corr_df\n",
    "# 0.4~0.6 사이에 있으면 연관성이 있다라고 본다"
   ]
  },
  {
   "cell_type": "code",
   "execution_count": 32,
   "metadata": {},
   "outputs": [
    {
     "data": {
      "text/plain": [
       "<AxesSubplot: >"
      ]
     },
     "execution_count": 32,
     "metadata": {},
     "output_type": "execute_result"
    },
    {
     "data": {
      "image/png": "[encoded data removed]",
      "text/plain": [
       "<Figure size 640x480 with 2 Axes>"
      ]
     },
     "metadata": {},
     "output_type": "display_data"
    }
   ],
   "source": [
    "# 상관계수 히트맵으로 시각화\n",
    "sns.heatmap(corr_df,annot=True)"
   ]
  },
  {
   "cell_type": "code",
   "execution_count": 7,
   "metadata": {},
   "outputs": [],
   "source": [
    "pd.options.display.float_format = '{:.4f}'.format"
   ]
  },
  {
   "cell_type": "code",
   "execution_count": 8,
   "metadata": {},
   "outputs": [
    {
     "data": {
      "text/html": [
       "<div>\n",
       "<style scoped>\n",
       "    .dataframe tbody tr th:only-of-type {\n",
       "        vertical-align: middle;\n",
       "    }\n",
       "\n",
       "    .dataframe tbody tr th {\n",
       "        vertical-align: top;\n",
       "    }\n",
       "\n",
       "    .dataframe thead th {\n",
       "        text-align: right;\n",
       "    }\n",
       "</style>\n",
       "<table border=\"1\" class=\"dataframe\">\n",
       "  <thead>\n",
       "    <tr style=\"text-align: right;\">\n",
       "      <th></th>\n",
       "      <th>0</th>\n",
       "      <th>1</th>\n",
       "      <th>2</th>\n",
       "      <th>3</th>\n",
       "      <th>4</th>\n",
       "      <th>5</th>\n",
       "      <th>6</th>\n",
       "      <th>7</th>\n",
       "      <th>8</th>\n",
       "      <th>9</th>\n",
       "    </tr>\n",
       "  </thead>\n",
       "  <tbody>\n",
       "    <tr>\n",
       "      <th>count</th>\n",
       "      <td>442.0000</td>\n",
       "      <td>442.0000</td>\n",
       "      <td>442.0000</td>\n",
       "      <td>442.0000</td>\n",
       "      <td>442.0000</td>\n",
       "      <td>442.0000</td>\n",
       "      <td>442.0000</td>\n",
       "      <td>442.0000</td>\n",
       "      <td>442.0000</td>\n",
       "      <td>442.0000</td>\n",
       "    </tr>\n",
       "    <tr>\n",
       "      <th>mean</th>\n",
       "      <td>-0.0000</td>\n",
       "      <td>0.0000</td>\n",
       "      <td>-0.0000</td>\n",
       "      <td>-0.0000</td>\n",
       "      <td>-0.0000</td>\n",
       "      <td>0.0000</td>\n",
       "      <td>-0.0000</td>\n",
       "      <td>-0.0000</td>\n",
       "      <td>0.0000</td>\n",
       "      <td>0.0000</td>\n",
       "    </tr>\n",
       "    <tr>\n",
       "      <th>std</th>\n",
       "      <td>0.0476</td>\n",
       "      <td>0.0476</td>\n",
       "      <td>0.0476</td>\n",
       "      <td>0.0476</td>\n",
       "      <td>0.0476</td>\n",
       "      <td>0.0476</td>\n",
       "      <td>0.0476</td>\n",
       "      <td>0.0476</td>\n",
       "      <td>0.0476</td>\n",
       "      <td>0.0476</td>\n",
       "    </tr>\n",
       "    <tr>\n",
       "      <th>min</th>\n",
       "      <td>-0.1072</td>\n",
       "      <td>-0.0446</td>\n",
       "      <td>-0.0903</td>\n",
       "      <td>-0.1124</td>\n",
       "      <td>-0.1268</td>\n",
       "      <td>-0.1156</td>\n",
       "      <td>-0.1023</td>\n",
       "      <td>-0.0764</td>\n",
       "      <td>-0.1261</td>\n",
       "      <td>-0.1378</td>\n",
       "    </tr>\n",
       "    <tr>\n",
       "      <th>25%</th>\n",
       "      <td>-0.0373</td>\n",
       "      <td>-0.0446</td>\n",
       "      <td>-0.0342</td>\n",
       "      <td>-0.0367</td>\n",
       "      <td>-0.0342</td>\n",
       "      <td>-0.0304</td>\n",
       "      <td>-0.0351</td>\n",
       "      <td>-0.0395</td>\n",
       "      <td>-0.0332</td>\n",
       "      <td>-0.0332</td>\n",
       "    </tr>\n",
       "    <tr>\n",
       "      <th>50%</th>\n",
       "      <td>0.0054</td>\n",
       "      <td>-0.0446</td>\n",
       "      <td>-0.0073</td>\n",
       "      <td>-0.0057</td>\n",
       "      <td>-0.0043</td>\n",
       "      <td>-0.0038</td>\n",
       "      <td>-0.0066</td>\n",
       "      <td>-0.0026</td>\n",
       "      <td>-0.0019</td>\n",
       "      <td>-0.0011</td>\n",
       "    </tr>\n",
       "    <tr>\n",
       "      <th>75%</th>\n",
       "      <td>0.0381</td>\n",
       "      <td>0.0507</td>\n",
       "      <td>0.0312</td>\n",
       "      <td>0.0356</td>\n",
       "      <td>0.0284</td>\n",
       "      <td>0.0298</td>\n",
       "      <td>0.0293</td>\n",
       "      <td>0.0343</td>\n",
       "      <td>0.0324</td>\n",
       "      <td>0.0279</td>\n",
       "    </tr>\n",
       "    <tr>\n",
       "      <th>max</th>\n",
       "      <td>0.1107</td>\n",
       "      <td>0.0507</td>\n",
       "      <td>0.1706</td>\n",
       "      <td>0.1320</td>\n",
       "      <td>0.1539</td>\n",
       "      <td>0.1988</td>\n",
       "      <td>0.1812</td>\n",
       "      <td>0.1852</td>\n",
       "      <td>0.1336</td>\n",
       "      <td>0.1356</td>\n",
       "    </tr>\n",
       "  </tbody>\n",
       "</table>\n",
       "</div>"
      ],
      "text/plain": [
       "             0        1        2        3        4        5        6        7  \\\n",
       "count 442.0000 442.0000 442.0000 442.0000 442.0000 442.0000 442.0000 442.0000   \n",
       "mean   -0.0000   0.0000  -0.0000  -0.0000  -0.0000   0.0000  -0.0000  -0.0000   \n",
       "std     0.0476   0.0476   0.0476   0.0476   0.0476   0.0476   0.0476   0.0476   \n",
       "min    -0.1072  -0.0446  -0.0903  -0.1124  -0.1268  -0.1156  -0.1023  -0.0764   \n",
       "25%    -0.0373  -0.0446  -0.0342  -0.0367  -0.0342  -0.0304  -0.0351  -0.0395   \n",
       "50%     0.0054  -0.0446  -0.0073  -0.0057  -0.0043  -0.0038  -0.0066  -0.0026   \n",
       "75%     0.0381   0.0507   0.0312   0.0356   0.0284   0.0298   0.0293   0.0343   \n",
       "max     0.1107   0.0507   0.1706   0.1320   0.1539   0.1988   0.1812   0.1852   \n",
       "\n",
       "             8        9  \n",
       "count 442.0000 442.0000  \n",
       "mean    0.0000   0.0000  \n",
       "std     0.0476   0.0476  \n",
       "min    -0.1261  -0.1378  \n",
       "25%    -0.0332  -0.0332  \n",
       "50%    -0.0019  -0.0011  \n",
       "75%     0.0324   0.0279  \n",
       "max     0.1336   0.1356  "
      ]
     },
     "execution_count": 8,
     "metadata": {},
     "output_type": "execute_result"
    }
   ],
   "source": [
    "pd.DataFrame(diab.data).describe()"
   ]
  },
  {
   "cell_type": "code",
   "execution_count": 9,
   "metadata": {},
   "outputs": [
    {
     "data": {
      "text/plain": [
       "array([151.,  75., 141., 206., 135.,  97., 138.,  63., 110., 310., 101.,\n",
       "        69., 179., 185., 118., 171., 166., 144.,  97., 168.,  68.,  49.,\n",
       "        68., 245., 184., 202., 137.,  85., 131., 283., 129.,  59., 341.,\n",
       "        87.,  65., 102., 265., 276., 252.,  90., 100.,  55.,  61.,  92.,\n",
       "       259.,  53., 190., 142.,  75., 142., 155., 225.,  59., 104., 182.,\n",
       "       128.,  52.,  37., 170., 170.,  61., 144.,  52., 128.,  71., 163.,\n",
       "       150.,  97., 160., 178.,  48., 270., 202., 111.,  85.,  42., 170.,\n",
       "       200., 252., 113., 143.,  51.,  52., 210.,  65., 141.,  55., 134.,\n",
       "        42., 111.,  98., 164.,  48.,  96.,  90., 162., 150., 279.,  92.,\n",
       "        83., 128., 102., 302., 198.,  95.,  53., 134., 144., 232.,  81.,\n",
       "       104.,  59., 246., 297., 258., 229., 275., 281., 179., 200., 200.,\n",
       "       173., 180.,  84., 121., 161.,  99., 109., 115., 268., 274., 158.,\n",
       "       107.,  83., 103., 272.,  85., 280., 336., 281., 118., 317., 235.,\n",
       "        60., 174., 259., 178., 128.,  96., 126., 288.,  88., 292.,  71.,\n",
       "       197., 186.,  25.,  84.,  96., 195.,  53., 217., 172., 131., 214.,\n",
       "        59.,  70., 220., 268., 152.,  47.,  74., 295., 101., 151., 127.,\n",
       "       237., 225.,  81., 151., 107.,  64., 138., 185., 265., 101., 137.,\n",
       "       143., 141.,  79., 292., 178.,  91., 116.,  86., 122.,  72., 129.,\n",
       "       142.,  90., 158.,  39., 196., 222., 277.,  99., 196., 202., 155.,\n",
       "        77., 191.,  70.,  73.,  49.,  65., 263., 248., 296., 214., 185.,\n",
       "        78.,  93., 252., 150.,  77., 208.,  77., 108., 160.,  53., 220.,\n",
       "       154., 259.,  90., 246., 124.,  67.,  72., 257., 262., 275., 177.,\n",
       "        71.,  47., 187., 125.,  78.,  51., 258., 215., 303., 243.,  91.,\n",
       "       150., 310., 153., 346.,  63.,  89.,  50.,  39., 103., 308., 116.,\n",
       "       145.,  74.,  45., 115., 264.,  87., 202., 127., 182., 241.,  66.,\n",
       "        94., 283.,  64., 102., 200., 265.,  94., 230., 181., 156., 233.,\n",
       "        60., 219.,  80.,  68., 332., 248.,  84., 200.,  55.,  85.,  89.,\n",
       "        31., 129.,  83., 275.,  65., 198., 236., 253., 124.,  44., 172.,\n",
       "       114., 142., 109., 180., 144., 163., 147.,  97., 220., 190., 109.,\n",
       "       191., 122., 230., 242., 248., 249., 192., 131., 237.,  78., 135.,\n",
       "       244., 199., 270., 164.,  72.,  96., 306.,  91., 214.,  95., 216.,\n",
       "       263., 178., 113., 200., 139., 139.,  88., 148.,  88., 243.,  71.,\n",
       "        77., 109., 272.,  60.,  54., 221.,  90., 311., 281., 182., 321.,\n",
       "        58., 262., 206., 233., 242., 123., 167.,  63., 197.,  71., 168.,\n",
       "       140., 217., 121., 235., 245.,  40.,  52., 104., 132.,  88.,  69.,\n",
       "       219.,  72., 201., 110.,  51., 277.,  63., 118.,  69., 273., 258.,\n",
       "        43., 198., 242., 232., 175.,  93., 168., 275., 293., 281.,  72.,\n",
       "       140., 189., 181., 209., 136., 261., 113., 131., 174., 257.,  55.,\n",
       "        84.,  42., 146., 212., 233.,  91., 111., 152., 120.,  67., 310.,\n",
       "        94., 183.,  66., 173.,  72.,  49.,  64.,  48., 178., 104., 132.,\n",
       "       220.,  57.])"
      ]
     },
     "execution_count": 9,
     "metadata": {},
     "output_type": "execute_result"
    }
   ],
   "source": [
    "diab.target"
   ]
  },
  {
   "cell_type": "markdown",
   "metadata": {},
   "source": [
    "### 데이터 준비"
   ]
  },
  {
   "cell_type": "code",
   "execution_count": 10,
   "metadata": {},
   "outputs": [],
   "source": [
    "def evaluate_score(y_test,y_pred):\n",
    "    mse = mean_squared_error(y_test,y_pred)\n",
    "    rmse = np.sqrt(mse)\n",
    "    r2 = r2_score(y_test,y_pred)\n",
    "\n",
    "    print(f'mse-{mse:.4f}')\n",
    "    print(f'rmse-{rmse:.4f}')\n",
    "    print(f'r2-{r2:.4f}')\n",
    "    return"
   ]
  },
  {
   "cell_type": "code",
   "execution_count": 12,
   "metadata": {},
   "outputs": [],
   "source": [
    "x= diab.data\n",
    "y = diab.target"
   ]
  },
  {
   "cell_type": "markdown",
   "metadata": {},
   "source": [
    "### 모델 구축"
   ]
  },
  {
   "cell_type": "code",
   "execution_count": 13,
   "metadata": {},
   "outputs": [],
   "source": [
    "x_train,x_test,y_train,y_test = train_test_split(x,y,test_size=0.2,random_state=27)"
   ]
  },
  {
   "cell_type": "code",
   "execution_count": 14,
   "metadata": {},
   "outputs": [],
   "source": [
    "# 희귀 모델 객체 생성\n",
    "lr = LinearRegression()"
   ]
  },
  {
   "cell_type": "code",
   "execution_count": 15,
   "metadata": {},
   "outputs": [],
   "source": [
    "# 모델 학습\n",
    "reg = lr.fit(x_train,y_train)"
   ]
  },
  {
   "cell_type": "code",
   "execution_count": 16,
   "metadata": {},
   "outputs": [
    {
     "data": {
      "text/plain": [
       "array([  42.13333043, -256.72425295,  585.6676767 ,  300.37906054,\n",
       "       -870.33272996,  492.32141742,  184.85940209,  262.17156228,\n",
       "        772.18576504,   54.44716253])"
      ]
     },
     "execution_count": 16,
     "metadata": {},
     "output_type": "execute_result"
    }
   ],
   "source": [
    "# 회귀 계수, 절편 확인\n",
    "coef = reg.coef_\n",
    "intercept = reg.intercept_\n",
    "coef"
   ]
  },
  {
   "cell_type": "markdown",
   "metadata": {},
   "source": [
    "### 모델 평가"
   ]
  },
  {
   "cell_type": "code",
   "execution_count": 17,
   "metadata": {},
   "outputs": [
    {
     "name": "stdout",
     "output_type": "stream",
     "text": [
      "MSE : 2712.4894,RMSE:52.0816,R2:0.3953\n"
     ]
    }
   ],
   "source": [
    "y_pred = reg.predict(x_test)\n",
    "\n",
    "mse, rmse, r2 = get_score(y_test, y_pred)\n",
    "\n",
    "print(f'MSE : {mse:.4f},RMSE:{rmse:.4f},R2:{r2:.4f}'.format(mse,rmse,r2))\n"
   ]
  },
  {
   "attachments": {},
   "cell_type": "markdown",
   "metadata": {},
   "source": [
    "##### 회귀 계수 확인 : 각각의 독립 변수의 설명력 확인"
   ]
  },
  {
   "cell_type": "code",
   "execution_count": 20,
   "metadata": {},
   "outputs": [
    {
     "data": {
      "text/plain": [
       "age     42.1333\n",
       "sex   -256.7243\n",
       "bmi    585.6677\n",
       "bp     300.3791\n",
       "s1    -870.3327\n",
       "s2     492.3214\n",
       "s3     184.8594\n",
       "s4     262.1716\n",
       "s5     772.1858\n",
       "s6      54.4472\n",
       "dtype: float64"
      ]
     },
     "execution_count": 20,
     "metadata": {},
     "output_type": "execute_result"
    }
   ],
   "source": [
    "coef = pd.Series(coef,index=diab.feature_names)\n",
    "coef"
   ]
  },
  {
   "attachments": {},
   "cell_type": "markdown",
   "metadata": {},
   "source": [
    "#### 실제값과 예측값의 분포차이를 시각화"
   ]
  },
  {
   "cell_type": "code",
   "execution_count": 27,
   "metadata": {},
   "outputs": [
    {
     "data": {
      "image/png": "[encoded data removed]",
      "text/plain": [
       "<Figure size 500x500 with 1 Axes>"
      ]
     },
     "metadata": {},
     "output_type": "display_data"
    }
   ],
   "source": [
    "plt.figure(figsize=(5,5))\n",
    "plt.scatter(y_test,y_pred,s=50,marker='^')\n",
    "plt.xlabel(\"실제값\")\n",
    "plt.ylabel(\"예측값\")\n",
    "plt.plot([50,300],[50,300], ls='--',c='r')\n",
    "plt.grid()"
   ]
  },
  {
   "cell_type": "code",
   "execution_count": null,
   "metadata": {},
   "outputs": [],
   "source": []
  }
 ],
 "metadata": {
  "kernelspec": {
   "display_name": "main",
   "language": "python",
   "name": "python3"
  },
  "language_info": {
   "codemirror_mode": {
    "name": "ipython",
    "version": 3
   },
   "file_extension": ".py",
   "mimetype": "text/x-python",
   "name": "python",
   "nbconvert_exporter": "python",
   "pygments_lexer": "ipython3",
   "version": "3.9.16"
  },
  "orig_nbformat": 4,
  "vscode": {
   "interpreter": {
    "hash": "5b3e9ff110fca189b640152dbca1582818d88c9c2a9ef25df7a407523fb4d550"
   }
  }
 },
 "nbformat": 4,
 "nbformat_minor": 2
}
