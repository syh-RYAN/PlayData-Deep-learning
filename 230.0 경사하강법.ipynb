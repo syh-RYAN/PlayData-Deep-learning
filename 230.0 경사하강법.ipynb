{
 "cells": [
  {
   "cell_type": "markdown",
   "metadata": {},
   "source": [
    "# 선형 회귀식의 계수를 찾는 법 - OLS VS. SGD\n",
    "- 보스턴 집값 데이터 활용(RM VS Price)"
   ]
  },
  {
   "cell_type": "markdown",
   "metadata": {},
   "source": [
    "### 필요한 모듈 import"
   ]
  },
  {
   "cell_type": "code",
   "execution_count": 2,
   "metadata": {},
   "outputs": [],
   "source": [
    "import pandas as pd\n",
    "import matplotlib.pyplot as plt\n",
    "import numpy as np\n",
    "\n",
    "# 필요한 라이브러리 import \n"
   ]
  },
  {
   "attachments": {},
   "cell_type": "markdown",
   "metadata": {},
   "source": [
    "### 데이터 수집 및 분할"
   ]
  },
  {
   "cell_type": "code",
   "execution_count": 3,
   "metadata": {},
   "outputs": [
    {
     "name": "stderr",
     "output_type": "stream",
     "text": [
      "c:\\ProgramData\\Anaconda3\\envs\\main\\lib\\site-packages\\sklearn\\datasets\\_openml.py:292: UserWarning: Multiple active versions of the dataset matching the name boston exist. Versions may be fundamentally different, returning version 1.\n",
      "  warn(\n",
      "c:\\ProgramData\\Anaconda3\\envs\\main\\lib\\site-packages\\sklearn\\datasets\\_openml.py:932: FutureWarning: The default value of `parser` will change from `'liac-arff'` to `'auto'` in 1.4. You can set `parser='auto'` to silence this warning. Therefore, an `ImportError` will be raised from 1.4 if the dataset is dense and pandas is not installed. Note that the pandas parser may return different data types. See the Notes Section in fetch_openml's API doc for details.\n",
      "  warn(\n"
     ]
    }
   ],
   "source": [
    "from sklearn import datasets\n",
    "\n",
    "boston = datasets.fetch_openml('boston')"
   ]
  },
  {
   "cell_type": "code",
   "execution_count": 4,
   "metadata": {},
   "outputs": [],
   "source": [
    "x = np.array(boston.data.RM).reshape(-1,1)\n",
    "y = boston.target\n",
    "\n",
    "# 데이터 분할\n",
    "from sklearn.model_selection import train_test_split\n",
    "\n",
    "x_train,x_test,y_train,y_test = train_test_split(x,y,test_size=0.3, random_state=1)"
   ]
  },
  {
   "cell_type": "markdown",
   "metadata": {},
   "source": [
    "# 1. LinearRegression 모델을 사용한 경우"
   ]
  },
  {
   "cell_type": "code",
   "execution_count": 6,
   "metadata": {},
   "outputs": [
    {
     "name": "stdout",
     "output_type": "stream",
     "text": [
      "[8.46109164] -30.571032410898336\n",
      "mse = 36.517\n",
      "rmse = 6.043\n",
      "r2 = 0.602\n"
     ]
    },
    {
     "data": {
      "text/plain": [
       "(36.517214730838624, 6.042947520112898, 0.6015774471545623)"
      ]
     },
     "execution_count": 6,
     "metadata": {},
     "output_type": "execute_result"
    }
   ],
   "source": [
    "from sklearn.linear_model import LinearRegression\n",
    "\n",
    "reg = LinearRegression()\n",
    "reg.fit(x_train,y_train)\n",
    "\n",
    "print(reg.coef_,reg.intercept_)\n",
    "\n",
    "y_pred = reg.predict(x_test)\n",
    "\n",
    "from eval_score_function import eval_score\n",
    "\n",
    "eval_score(y_test,y_pred)"
   ]
  },
  {
   "cell_type": "markdown",
   "metadata": {},
   "source": [
    "# 2. SGDRegressor with hyperparameter"
   ]
  },
  {
   "cell_type": "code",
   "execution_count": 53,
   "metadata": {},
   "outputs": [
    {
     "name": "stdout",
     "output_type": "stream",
     "text": [
      "3.5471540937480923 0.497708365257496\n"
     ]
    }
   ],
   "source": [
    "from sklearn.linear_model import SGDRegressor\n",
    "\n",
    "reg = SGDRegressor(max_iter=1000000000,eta0=0.0001, learning_rate ='invscaling',\n",
    "                   loss='squared_error',\n",
    "                   random_state=42)\n",
    "\n",
    "reg.fit(x_train,y_train)\n",
    "\n",
    "print(reg.coef_[0],reg.intercept_[0])"
   ]
  },
  {
   "cell_type": "code",
   "execution_count": 54,
   "metadata": {},
   "outputs": [
    {
     "name": "stdout",
     "output_type": "stream",
     "text": [
      "mse = 59.484\n",
      "rmse = 7.713\n",
      "r2 = 0.351\n"
     ]
    },
    {
     "data": {
      "text/plain": [
       "(59.484466468989275, 7.712617355281492, 0.3509923152707195)"
      ]
     },
     "execution_count": 54,
     "metadata": {},
     "output_type": "execute_result"
    }
   ],
   "source": [
    "y_pred = reg.predict(x_test)\n",
    "\n",
    "eval_score(y_test,y_pred)"
   ]
  },
  {
   "cell_type": "markdown",
   "metadata": {},
   "source": [
    "# 3. SGDRegressor with scaling"
   ]
  },
  {
   "cell_type": "code",
   "execution_count": 49,
   "metadata": {},
   "outputs": [
    {
     "name": "stdout",
     "output_type": "stream",
     "text": [
      "[5.62395551] [21.47086473]\n",
      "mse = 37.668\n",
      "rmse = 6.137\n",
      "r2 = 0.589\n"
     ]
    },
    {
     "data": {
      "text/plain": [
       "(37.66829778653543, 6.13745043047481, 0.5890185087752737)"
      ]
     },
     "execution_count": 49,
     "metadata": {},
     "output_type": "execute_result"
    }
   ],
   "source": [
    "# 표준화 스케일링을 사용하여 경사하강법 모델링\n",
    "\n",
    "# 스케일링 데이터 준비\n",
    "train_mean = np.mean(x_train,axis=0)\n",
    "train_std = np.std(x_train, axis=0)\n",
    "\n",
    "x_train_scaled = (x_train - train_mean) / train_std\n",
    "\n",
    "x_test_scaled = (x_test - train_mean) / train_std\n",
    "\n",
    "# 모델 객체 생성\n",
    "reg = SGDRegressor(max_iter=1000000000,eta0=0.0001, learning_rate ='invscaling',\n",
    "                   loss='squared_error',\n",
    "                   random_state=42)\n",
    "\n",
    "reg.fit(x_train_scaled,y_train)\n",
    "\n",
    "# 계수 확인\n",
    "print(reg.coef_,reg.intercept_)\n",
    "\n",
    "# 평가지표\n",
    "y_pred = reg.predict(x_test_scaled)\n",
    "\n",
    "eval_score(y_test,y_pred)"
   ]
  },
  {
   "cell_type": "code",
   "execution_count": null,
   "metadata": {},
   "outputs": [],
   "source": []
  },
  {
   "cell_type": "markdown",
   "metadata": {},
   "source": [
    "# 4. SGDRegressor with StandardScaler()"
   ]
  },
  {
   "cell_type": "code",
   "execution_count": 62,
   "metadata": {},
   "outputs": [],
   "source": [
    "from sklearn.preprocessing import StandardScaler\n",
    "\n",
    "scaler = StandardScaler()\n",
    "scaler.fit(x_train)\n",
    "x_train_scaled = scaler.transform(x_train)\n",
    "x_train_scaled\n",
    "\n",
    "# x_train_scaled = scaler.fit_transform(x_train)\n",
    "x_test_scaled = scaler.transform(x_test)"
   ]
  },
  {
   "attachments": {},
   "cell_type": "markdown",
   "metadata": {},
   "source": [
    "# 5. Pipeline with StandardScaler,LinearRegression or SGDRegrssor"
   ]
  },
  {
   "cell_type": "code",
   "execution_count": 61,
   "metadata": {},
   "outputs": [
    {
     "name": "stdout",
     "output_type": "stream",
     "text": [
      "[5.84750366] [22.31897879]\n",
      "y = 5.847504X + 22.319\n",
      "MSE: 36.523\n",
      "RMSE:  6.043\n",
      "R2:  0.602\n"
     ]
    }
   ],
   "source": [
    "from sklearn.preprocessing import StandardScaler\n",
    "from sklearn.pipeline import make_pipeline\n",
    "\n",
    "reg = make_pipeline(StandardScaler(),\n",
    "                    SGDRegressor(max_iter=1000000, eta0=0.01,\\\n",
    "                                 tol=0.0001, random_state=42, loss='squared_error'))\n",
    "reg.fit(x_train, y_train)\n",
    "\n",
    "# 계수 및 절편 확인: _속성은 학습을 통해 결정되는 속성\n",
    "print(reg[1].coef_, reg[1].intercept_)\n",
    "\n",
    "#회귀식 - pipeline()을 사용했기 때문에 SGDRegressor의 parameter가 reg객체의 1번 인덱스에 들어감\n",
    "print(\"y = {:2f}X + {:.3f}\".format(reg[1].coef_[0], reg[1].intercept_[0]))\n",
    "\n",
    "# 예측 수행\n",
    "y_pred = reg.predict(x_test)\n",
    "from sklearn.metrics import mean_squared_error, r2_score\n",
    "# MSE, RMSE, r2_score\n",
    "mse = mean_squared_error(y_test, y_pred)\n",
    "rmse = np.sqrt(mse)\n",
    "r2 = r2_score(y_test, y_pred)\n",
    "\n",
    "print(\"MSE:\", np.round(mse, 3))\n",
    "print(\"RMSE: \", np.round(rmse, 3))\n",
    "print(\"R2: \", np.round(r2, 3))"
   ]
  },
  {
   "cell_type": "code",
   "execution_count": null,
   "metadata": {},
   "outputs": [],
   "source": []
  }
 ],
 "metadata": {
  "kernelspec": {
   "display_name": "main",
   "language": "python",
   "name": "python3"
  },
  "language_info": {
   "codemirror_mode": {
    "name": "ipython",
    "version": 3
   },
   "file_extension": ".py",
   "mimetype": "text/x-python",
   "name": "python",
   "nbconvert_exporter": "python",
   "pygments_lexer": "ipython3",
   "version": "3.9.16"
  },
  "vscode": {
   "interpreter": {
    "hash": "5b3e9ff110fca189b640152dbca1582818d88c9c2a9ef25df7a407523fb4d550"
   }
  }
 },
 "nbformat": 4,
 "nbformat_minor": 4
}
